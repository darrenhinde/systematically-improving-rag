{
 "cells": [
  {
   "cell_type": "code",
   "execution_count": 1,
   "metadata": {},
   "outputs": [],
   "source": [
    "%load_ext autoreload\n",
    "%autoreload 2"
   ]
  },
  {
   "cell_type": "markdown",
   "metadata": {},
   "source": [
    "# Week 2: Fine-tuning Embeddings for RAG Applications\n",
    "\n",
    "> **Prerequisites**: Please complete Week 1's notebooks before starting this one. The concepts build directly on that foundation.\n",
    "\n",
    "Most teams avoid fine-tuning their embedding models, thinking they need tons of data and complex setups. But our experience shows that with just 100-200 thoughtfully created examples, you can significantly improve your model's performance over general-purpose embeddings.\n",
    "\n",
    "## Why This Matters\n",
    "\n",
    "Fine-tuning embedding models gives several key advantages over using general-purpose models. While it takes more upfront work to create training data and run the fine-tuning process, this investment typically leads to:\n",
    "\n",
    "1. Much better accuracy on your specific tasks\n",
    "2. Lower running costs through using smaller, more efficient models\n",
    "3. Better handling of domain-specific language and context\n",
    "\n",
    "## What You'll Learn\n",
    "\n",
    "Through this tutorial, you'll discover how to:\n",
    "\n",
    "1. Build Quality Training Data\n",
    "\n",
    "- Generate synthetic transactions systematically\n",
    "- Review and validate examples manually\n",
    "- Create diverse, representative samples\n",
    "\n",
    "2. Structure Your Dataset\n",
    "\n",
    "- Define clear schema for transactions\n",
    "- Add meaningful metadata\n",
    "- Ensure data consistency\n",
    "\n",
    "3. Establish Performance Baselines\n",
    "\n",
    "- Measure initial embedding performance\n",
    "- Calculate retrieval metrics\n",
    "- Set up evaluation pipelines\n",
    "\n",
    "By the end of this notebook, you'll know how to create high-quality synthetic data for fine-tuning embedding models. This prepares you for the hands-on fine-tuning work in notebooks 2 and 3, where we'll use both Cohere's managed service and open-source tools to improve retrieval performance.\n",
    "\n",
    "## Case Study: Ramp's Transaction Categorization\n",
    "\n",
    "> Read about Ramp's succesful case study using fine-tuned embeddings [here](https://engineering.ramp.com/transaction-embeddings)\n",
    "\n",
    "We'll follow Ramp's successful approach to fine-tuning embeddings for transaction categorization. Their team demonstrated that even with unique customer categories, a fine-tuned model could effectively generalize to new customers and scenarios.\n",
    "\n",
    "Using synthetic financial data, we'll walk through their process step by step:\n",
    "\n",
    "1. **Data Understanding**: Learn what transaction data looks like and how to structure it for embedding\n",
    "2. **Synthetic Data Generation**: Create realistic, challenging test cases using large language models\n",
    "3. **Model Fine-tuning**: Compare performance between base and fine-tuned models\n",
    "\n",
    "Throughout this process, we'll use Braintrust to track experiments and measure improvements systematically. This workflow will give you a practical foundation for fine-tuning embeddings in your own applications.\n"
   ]
  },
  {
   "cell_type": "markdown",
   "metadata": {},
   "source": [
    "### Understanding Transactions\n",
    "\n",
    "To fine-tune our model effectively, we need to understand the transaction data we're working with.\n",
    "\n",
    "Typical Transaction Fields:\n",
    "\n",
    "- Merchant Name: The vendor or service provider's name.\n",
    "- Merchant Category Code (MCC): General category of the transaction (e.g., Restaurants).\n",
    "- Department Name: The company department responsible for the transaction.\n",
    "- Location: Where the transaction took place.\n",
    "- Amount: The transaction's monetary value.\n",
    "- Spend Program Name: Specific budget or spend limit allocated.\n",
    "- Trip Name: If the transaction occurred during travel.\n",
    "\n",
    "We can see an example below\n",
    "\n",
    "```\n",
    "Name : Beirut Bakery\n",
    "Category: Restaurants, Cafeteria\n",
    "Department: Engineering\n",
    "Location: Calgary, AB, Canada\n",
    "Amount: 56.67 CAD\n",
    "Card: Ramp's Physical Card\n",
    "Trip Name: unknown\n",
    "```\n",
    "\n",
    "This is a difficult task because there's very little information. Additionally since each company has unique categories that have some implicit rules, it's difficult for a general embedding model to classify these transactions without fine-tuning.\n"
   ]
  },
  {
   "cell_type": "markdown",
   "metadata": {},
   "source": [
    "## Generating Synthetic Transactions\n",
    "\n",
    "We'll generate a synthetic transaction dataset in 3 steps\n",
    "\n",
    "1. **Initial Examples** : We'll create a batch of basic transactions using `gpt-4o-mini` and manually review them to create a small dataset of good and bad examples.\n",
    "\n",
    "2. **Refine Data** : We'll then randomly select a subset of these initial examples and use them to generate new examples that are more challenging by adding them to the prompt as few shot examples.\n",
    "\n",
    "3. **Braintrust Evaluation** : We'll then use `braintrust` to evaluate the recall@1,3,5 and mrr@1,3,5 of our initial and refined examples.\n",
    "\n",
    "We recommend using `ChatGPT` to evaluate these examples and get a sense for what makes a good or bad example during this process. We'll iterate on this until we've generated at least 300 examples. This will ensure that we have enough examples to fine-tune a cohere re-ranker ( requires min 256 examples) or a sentence transformer model while also having enough examples to create a held out evaluation set.\n",
    "\n",
    "There are two key advantages to iteratively generating our dataset in small batches\n",
    "\n",
    "1. **Practicality** : A small amount of data is easy to label\n",
    "2. **Randomness** : By constantly sampling from our growing number of examples, we're able to have enough randomness to create a diverse dataset. This helps us to avoid potential issues with diversity and quality that doing a single pass of data generation can introduce.\n",
    "\n",
    "### Step 1 : Generating our initial transactions.\n",
    "\n",
    "We'll start by generating our initial transactions using a simple prompt. These are going to be very simple examples that will not be great but they are useful as an initial starting point.\n"
   ]
  },
  {
   "cell_type": "code",
   "execution_count": 1,
   "metadata": {},
   "outputs": [
    {
     "name": "stderr",
     "output_type": "stream",
     "text": [
      "/Users/ivanleo/Documents/coding/systematically-improving-rag/cohort_2/.venv/lib/python3.9/site-packages/urllib3/__init__.py:35: NotOpenSSLWarning: urllib3 v2 only supports OpenSSL 1.1.1+, currently the 'ssl' module is compiled with 'LibreSSL 2.8.3'. See: https://github.com/urllib3/urllib3/issues/3020\n",
      "  warnings.warn(\n"
     ]
    }
   ],
   "source": [
    "from pydantic import BaseModel, field_validator, ValidationInfo\n",
    "from openai import AsyncOpenAI\n",
    "import instructor\n",
    "from typing import Optional\n",
    "from textwrap import dedent\n",
    "import random\n",
    "import json\n",
    "import asyncio\n",
    "\n",
    "# Load in pre-defined categories\n",
    "categories = json.load(open(\"data/categories.json\"))\n",
    "\n",
    "\n",
    "# Define a Pydantic model that can represent the same transaction data that Ramp was using\n",
    "class Transaction(BaseModel):\n",
    "    merchant_name: str\n",
    "    merchant_category: list[str]\n",
    "    department: str\n",
    "    location: str\n",
    "    amount: float\n",
    "    spend_program_name: str\n",
    "    trip_name: Optional[str] = None\n",
    "    expense_category: str\n",
    "\n",
    "    def format_transaction(self):\n",
    "        return dedent(f\"\"\"\n",
    "        Name : {self.merchant_name}\n",
    "        Category: {\", \".join(self.merchant_category)}\n",
    "        Department: {self.department}\n",
    "        Location: {self.location}\n",
    "        Amount: {self.amount}\n",
    "        Card: {self.spend_program_name}\n",
    "        Trip Name: {self.trip_name if self.trip_name else \"unknown\"}\n",
    "        \"\"\")\n",
    "\n",
    "    @field_validator(\"expense_category\")\n",
    "    @classmethod\n",
    "    def validate_expense_category(cls, v, info: ValidationInfo):\n",
    "        # We use this later to read in the generated transactions\n",
    "        if not info.context:\n",
    "            return v\n",
    "\n",
    "        # Validate that we've generated the right expense category\n",
    "        assert v == info.context[\"category\"][\"category\"], (\n",
    "            f\"The transaction must have an expense category of {info.context['category']['category']} instead of {v}\"\n",
    "        )\n",
    "        return v\n",
    "\n",
    "\n",
    "client = instructor.from_openai(AsyncOpenAI())\n",
    "\n",
    "\n",
    "async def generate_transaction(category):\n",
    "    return await client.chat.completions.create(\n",
    "        model=\"gpt-4o-mini\",\n",
    "        messages=[\n",
    "            {\n",
    "                \"role\": \"system\",\n",
    "                \"content\": \"\"\"Generate a transaction for a tech company that could be filed under the category of {{ category }}. This should be distinct from the sample_transactions provided in the categories.json file\n",
    "\n",
    "                - The spend program is a specific spending authority or allocation that has defined limits, rules, and permissions. It's like a virtual card or spending account set up for a specific purpose.\n",
    "                - Merchant Category Name is a label that best describes the merchant of the transaction.\n",
    "                - Merchant name should be realistic and not obviously made up.\n",
    "                \"\"\",\n",
    "            }\n",
    "        ],\n",
    "        context={\"category\": category},\n",
    "        response_model=Transaction,\n",
    "    )"
   ]
  },
  {
   "cell_type": "code",
   "execution_count": 2,
   "metadata": {},
   "outputs": [],
   "source": [
    "# Generate 5 initial transactions and choose the category randomly\n",
    "coros = []\n",
    "for _ in range(5):\n",
    "    coros.append(generate_transaction(random.choice(categories)))\n",
    "\n",
    "transactions = await asyncio.gather(*coros)\n",
    "with open(\"./data/generated_transactions.jsonl\", \"a\") as f:\n",
    "    for transaction in transactions:\n",
    "        f.write(transaction.model_dump_json() + \"\\n\")"
   ]
  },
  {
   "cell_type": "code",
   "execution_count": 5,
   "metadata": {},
   "outputs": [
    {
     "data": {
      "text/html": [
       "<pre style=\"white-space:pre;overflow-x:auto;line-height:normal;font-family:Menlo,'DejaVu Sans Mono',consolas,'Courier New',monospace\"><span style=\"color: #800080; text-decoration-color: #800080; font-weight: bold\">Transaction</span><span style=\"font-weight: bold\">(</span>\n",
       "    <span style=\"color: #808000; text-decoration-color: #808000\">merchant_name</span>=<span style=\"color: #008000; text-decoration-color: #008000\">'Office Depot'</span>,\n",
       "    <span style=\"color: #808000; text-decoration-color: #808000\">merchant_category</span>=<span style=\"font-weight: bold\">[</span><span style=\"color: #008000; text-decoration-color: #008000\">'Office Supplies'</span>, <span style=\"color: #008000; text-decoration-color: #008000\">'Stationery'</span><span style=\"font-weight: bold\">]</span>,\n",
       "    <span style=\"color: #808000; text-decoration-color: #808000\">department</span>=<span style=\"color: #008000; text-decoration-color: #008000\">'Office Administration'</span>,\n",
       "    <span style=\"color: #808000; text-decoration-color: #808000\">location</span>=<span style=\"color: #008000; text-decoration-color: #008000\">'New York, NY'</span>,\n",
       "    <span style=\"color: #808000; text-decoration-color: #808000\">amount</span>=<span style=\"color: #008080; text-decoration-color: #008080; font-weight: bold\">154.75</span>,\n",
       "    <span style=\"color: #808000; text-decoration-color: #808000\">spend_program_name</span>=<span style=\"color: #008000; text-decoration-color: #008000\">'Office Essentials Fund'</span>,\n",
       "    <span style=\"color: #808000; text-decoration-color: #808000\">trip_name</span>=<span style=\"color: #800080; text-decoration-color: #800080; font-style: italic\">None</span>,\n",
       "    <span style=\"color: #808000; text-decoration-color: #808000\">expense_category</span>=<span style=\"color: #008000; text-decoration-color: #008000\">'Office Supplies &amp; Stationery'</span>\n",
       "<span style=\"font-weight: bold\">)</span>\n",
       "</pre>\n"
      ],
      "text/plain": [
       "\u001b[1;35mTransaction\u001b[0m\u001b[1m(\u001b[0m\n",
       "    \u001b[33mmerchant_name\u001b[0m=\u001b[32m'Office Depot'\u001b[0m,\n",
       "    \u001b[33mmerchant_category\u001b[0m=\u001b[1m[\u001b[0m\u001b[32m'Office Supplies'\u001b[0m, \u001b[32m'Stationery'\u001b[0m\u001b[1m]\u001b[0m,\n",
       "    \u001b[33mdepartment\u001b[0m=\u001b[32m'Office Administration'\u001b[0m,\n",
       "    \u001b[33mlocation\u001b[0m=\u001b[32m'New York, NY'\u001b[0m,\n",
       "    \u001b[33mamount\u001b[0m=\u001b[1;36m154\u001b[0m\u001b[1;36m.75\u001b[0m,\n",
       "    \u001b[33mspend_program_name\u001b[0m=\u001b[32m'Office Essentials Fund'\u001b[0m,\n",
       "    \u001b[33mtrip_name\u001b[0m=\u001b[3;35mNone\u001b[0m,\n",
       "    \u001b[33mexpense_category\u001b[0m=\u001b[32m'Office Supplies & Stationery'\u001b[0m\n",
       "\u001b[1m)\u001b[0m\n"
      ]
     },
     "metadata": {},
     "output_type": "display_data"
    }
   ],
   "source": [
    "from rich import print\n",
    "\n",
    "print(transactions[0])"
   ]
  },
  {
   "cell_type": "markdown",
   "metadata": {},
   "source": [
    "### Step 2 : Labeling Transactions\n",
    "\n",
    "Now that we've generated a small set of initial transactions, please run `streamlit run label.py` to manually select transactions that you think might be difficult to classify.\n",
    "\n",
    "> You can modify and edit the transaction details before approving them. Hot keys of ctrl + e ( approve ) and ctrl + r ( reject ) make this process much faster. Only approved transactions will be saved to `generated_transactions.jsonl` below. We'll then use these examples to generate a new set of transactions that are more challenging.\n",
    "\n",
    "You can also manually override transaction details in the streamlit application. We recommend using `ChatGPT` or `Claude` to discuss and generate good default and examples. A prompt that I used to prompt the chat UI was\n",
    "\n",
    "```\n",
    "I'd like to generate a transaction for a tech company that is challenging to classify into a specific category. Here are the details\n",
    "\n",
    "<Details go here>\n",
    "\n",
    "I'd like you to help rewrite some of the details to make it more realistic. Please stick to the following rules\n",
    "\n",
    "- MCCs should be realistic. If possible, let's try to use a MCC that will cover a superset of the given category\n",
    "- Let's try to suggest a non-uniform number (Eg. not 1500 ) so that it seems more realistic\n",
    "- The Spend Program name should be a specific spending authority or allocation that has defined limits, rules, and permissions. It's like a virtual card or spending account set up for a specific purpose. In our case, this spend program name should not be a name that directly mentions the category or merchant\n",
    "```\n"
   ]
  },
  {
   "cell_type": "code",
   "execution_count": 234,
   "metadata": {},
   "outputs": [],
   "source": [
    "async def generate_transaction_with_examples(category, examples: list[Transaction]):\n",
    "    return await client.chat.completions.create(\n",
    "        model=\"gpt-4o\",\n",
    "        messages=[\n",
    "            {\n",
    "                \"role\": \"system\",\n",
    "                \"content\": \"\"\"\n",
    "                Generate a potentially ambiguous business transaction that could reasonably be categorized as {{ category }} or another similar category. The goal is to create transactions that challenge automatic categorization systems by having characteristics that could fit multiple categories.\n",
    "\n",
    "\n",
    "                Available categories in the system.:\n",
    "                <categories>\n",
    "                {% for category_option in categories %}\n",
    "                    {{ category_option[\"category\"] }}\n",
    "                {% endfor %}\n",
    "                </categories>\n",
    "\n",
    "                \n",
    "                The transaction should:\n",
    "                1. Use a realistic but non-obvious merchant name (international names welcome), don't use names that are obviously made u \n",
    "                2. Include a plausible but non-rounded amount with decimals (e.g., $1247.83)\n",
    "                3. Be difficult to categorize definitively (could fit in multiple categories)\n",
    "                4. Merchant Category Name(s) should not reference the category at all and should be able to be used for other similar categories if possible.\n",
    "\n",
    "                Here are some good examples of transactions that were previously generated for other categories.\n",
    "\n",
    "                {% for example in examples %}\n",
    "                {{ example.model_dump_json() }}\n",
    "                {% endfor %}\n",
    "                \"\"\",\n",
    "            }\n",
    "        ],\n",
    "        context={\"category\": category, \"examples\": examples, \"categories\": categories},\n",
    "        response_model=Transaction,\n",
    "    )"
   ]
  },
  {
   "cell_type": "code",
   "execution_count": 240,
   "metadata": {},
   "outputs": [],
   "source": [
    "with open(\"./data/cleaned.jsonl\", \"r\") as f:\n",
    "    sample_transactions = []\n",
    "    for line in f:\n",
    "        sample_transactions.append(Transaction(**json.loads(line)))\n",
    "\n",
    "\n",
    "coros = []\n",
    "for _ in range(20):\n",
    "    coros.append(\n",
    "        generate_transaction_with_examples(\n",
    "            random.choice(categories), random.sample(sample_transactions, 10)\n",
    "        )\n",
    "    )\n",
    "\n",
    "transactions = await asyncio.gather(*coros)\n",
    "\n",
    "with open(\"./data/generated_transactions.jsonl\", \"w\") as f:\n",
    "    for transaction in transactions:\n",
    "        f.write(transaction.model_dump_json() + \"\\n\")"
   ]
  },
  {
   "cell_type": "markdown",
   "metadata": {},
   "source": [
    "### Step 3 : Evaluating Recall and MRR Performance.\n",
    "\n",
    "> **Note** : If you haven't bumped your braintrust free tier yet, scroll a bit further down. We've implemented a version for week 2 that doesn't use braintrust.\n",
    "\n",
    "Remember that we're building a model that can suggest transaction categories to a user. To do so, we'll only be able to show the top 3-5 results and we want to make sure that the correct result is ranked as highly as possible.\n",
    "\n",
    "Therefore, we'll be using recall and mrr to evaluate our mode's performance here.\n",
    "\n",
    "- `recall` : This measures whether the correct category is in the top k retrieved results.\n",
    "- `mrr` : This measures how highly is the correct category ranked in the retrieved results.\n",
    "\n",
    "Ideally we want a model with a high recall and mrr. This means that when we display the results, they're likely to be relevant to the user. By measuring the recall and mrr, we're able to ensure that we're conssitently generating questions that the model finds challenging.\n",
    "\n",
    "We're using `lancedb` here since it provides an easy way to perform these evaluations with automatic batching of embeddings for queries and data along with a single api for vector search and reranking.\n"
   ]
  },
  {
   "cell_type": "code",
   "execution_count": 2,
   "metadata": {},
   "outputs": [],
   "source": [
    "import lancedb\n",
    "from lancedb.pydantic import LanceModel, Vector\n",
    "from lancedb.embeddings import get_registry\n",
    "\n",
    "func = get_registry().get(\"openai\").create(name=\"text-embedding-3-small\")\n",
    "categories = json.load(open(\"data/categories.json\"))\n",
    "\n",
    "\n",
    "class Category(LanceModel):\n",
    "    text: str = func.SourceField()\n",
    "    embedding: Vector(func.ndims()) = func.VectorField()\n",
    "\n",
    "\n",
    "db = lancedb.connect(\"./lancedb\")\n",
    "table = db.create_table(\"categories\", schema=Category, mode=\"overwrite\")\n",
    "\n",
    "\n",
    "table.add(\n",
    "    [\n",
    "        {\n",
    "            \"text\": category[\"category\"],\n",
    "        }\n",
    "        for category in categories\n",
    "    ]\n",
    ")\n",
    "\n",
    "table.create_fts_index(field_names=[\"text\"], replace=True)"
   ]
  },
  {
   "cell_type": "code",
   "execution_count": 4,
   "metadata": {},
   "outputs": [],
   "source": [
    "transactions = []\n",
    "for line in open(\"./data/cleaned.jsonl\").readlines():\n",
    "    transactions.append(Transaction(**json.loads(line)))"
   ]
  },
  {
   "cell_type": "code",
   "execution_count": 20,
   "metadata": {},
   "outputs": [
    {
     "name": "stderr",
     "output_type": "stream",
     "text": [
      "Experiment remove-braintrust-1739746375 is running at https://www.braintrust.dev/app/567/p/fine-tuning/experiments/remove-braintrust-1739746375\n",
      "`Eval()` was called from an async context. For better performance, it is recommended to use `await EvalAsync()` instead.\n",
      "fine-tuning (data): 326it [00:00, 173873.74it/s]\n"
     ]
    },
    {
     "data": {
      "application/vnd.jupyter.widget-view+json": {
       "model_id": "2ea38dcececa428db59656e712f75203",
       "version_major": 2,
       "version_minor": 0
      },
      "text/plain": [
       "fine-tuning (tasks):   0%|          | 0/326 [00:00<?, ?it/s]"
      ]
     },
     "metadata": {},
     "output_type": "display_data"
    },
    {
     "name": "stdout",
     "output_type": "stream",
     "text": [
      "\n",
      "=========================SUMMARY=========================\n",
      "remove-braintrust-1739746375 compared to synthetic-transactions-train-categories-ivanleomk-finetuned-bge-base-en-test:\n",
      "38.65% (-18.18%) 'mrr@1'    score\t(7 improvements, 19 regressions)\n",
      "49.44% (-19.44%) 'mrr@3'    score\t(9 improvements, 28 regressions)\n",
      "52.29% (-18.38%) 'mrr@5'    score\t(10 improvements, 31 regressions)\n",
      "38.65% (-18.18%) 'recall@1' score\t(7 improvements, 19 regressions)\n",
      "63.80% (-19.70%) 'recall@3' score\t(2 improvements, 15 regressions)\n",
      "76.38% (-15.15%) 'recall@5' score\t(2 improvements, 12 regressions)\n",
      "\n",
      "1739746376.01s start\n",
      "1739746383.26s end\n",
      "3.68s (+254.92%) 'duration'\t(9 improvements, 57 regressions)\n",
      "\n",
      "See results for remove-braintrust-1739746375 at https://www.braintrust.dev/app/567/p/fine-tuning/experiments/remove-braintrust-1739746375\n"
     ]
    },
    {
     "data": {
      "text/plain": [
       "EvalResultWithSummary(summary=\"...\", results=[...])"
      ]
     },
     "execution_count": 20,
     "metadata": {},
     "output_type": "execute_result"
    }
   ],
   "source": [
    "from braintrust import Eval, Score\n",
    "from helpers import get_metrics_at_k, task\n",
    "\n",
    "\n",
    "def evaluate_braintrust(input, output, **kwargs):\n",
    "    metrics = get_metrics_at_k(metrics=[\"mrr\", \"recall\"], sizes=[1, 3, 5])\n",
    "    return [\n",
    "        Score(\n",
    "            name=metric,\n",
    "            score=score_fn(output, kwargs[\"expected\"]),\n",
    "            metadata={\"query\": input, \"result\": output, **kwargs[\"metadata\"]},\n",
    "        )\n",
    "        for metric, score_fn in metrics.items()\n",
    "    ]\n",
    "\n",
    "\n",
    "await Eval(\n",
    "    \"fine-tuning\",  # Replace with your project name\n",
    "    data=lambda: [\n",
    "        {\n",
    "            \"input\": transaction.format_transaction(),\n",
    "            \"expected\": [transaction.expense_category],\n",
    "        }\n",
    "        for transaction in transactions\n",
    "    ],  # Replace with your eval dataset\n",
    "    task=lambda query: task(\n",
    "        user_query=query, table=table, reranker=None, max_k=25\n",
    "    ),  # Replace with your LLM call\n",
    "    scores=[evaluate_braintrust],\n",
    ")"
   ]
  },
  {
   "cell_type": "code",
   "execution_count": 25,
   "metadata": {},
   "outputs": [
    {
     "name": "stdout",
     "output_type": "stream",
     "text": [
      "mrr@1       0.386503\n",
      "mrr@3       0.494376\n",
      "mrr@5       0.522904\n",
      "recall@1    0.386503\n",
      "recall@3    0.638037\n",
      "recall@5    0.763804\n",
      "dtype: float64\n"
     ]
    }
   ],
   "source": [
    "from concurrent.futures import ThreadPoolExecutor\n",
    "from helpers import task, get_metrics_at_k\n",
    "import pandas as pd\n",
    "\n",
    "transactions = []\n",
    "for line in open(\"./data/cleaned.jsonl\").readlines():\n",
    "    transactions.append(Transaction(**json.loads(line)))\n",
    "\n",
    "\n",
    "metrics = get_metrics_at_k(metrics=[\"mrr\", \"recall\"], sizes=[1, 3, 5])\n",
    "\n",
    "\n",
    "def evaluate_query(output, expense_category):\n",
    "    scores = {}\n",
    "    for metric, score_fn in metrics.items():\n",
    "        scores[metric] = score_fn(output, expense_category)\n",
    "\n",
    "    return scores\n",
    "\n",
    "\n",
    "with ThreadPoolExecutor(max_workers=10) as executor:\n",
    "    results = list(\n",
    "        executor.map(\n",
    "            lambda q: task(\n",
    "                user_query=q.format_transaction(), table=table, reranker=None, max_k=25\n",
    "            ),\n",
    "            transactions,\n",
    "        )\n",
    "    )\n",
    "    scores = [\n",
    "        evaluate_query(output, [transaction.expense_category])\n",
    "        for output, transaction in zip(results, transactions)\n",
    "    ]\n",
    "    df = pd.DataFrame(scores)\n",
    "    print(df.mean())"
   ]
  },
  {
   "cell_type": "markdown",
   "metadata": {},
   "source": [
    "At this point, we've generated a large dataset of synthetic transactions that we can use to fine-tune a model on. However, it's important here to call out that synthetic data has its challenges.\n",
    "\n",
    "1. Quality and Diversity : It's difficult to ensure that the synthetic data is of high quality and diverse. We've done so by manually reviewing and selecting good examples but ultimately we need real production data to ensure that our model is able to generalise.\n",
    "\n",
    "2. Human Error : Manual review is great to ensure the quality of transactions but is expensive and error prone. This is not something that scales well, especially if you're trying to generate thousands of examples which you'd like humans to manually label.\n",
    "\n",
    "We want to treat this synthetic data as a starting point and iteratively make it better using the techniques we've discussed in this notebook. But you will need to eventually mix in production data and continue generating synthetic data in order to adequately evaluate and test the generalisation capabilities of your model.\n"
   ]
  },
  {
   "cell_type": "markdown",
   "metadata": {},
   "source": [
    "## Creating a Dataset\n",
    "\n",
    "We want to segregate our data into a train and evaluation set because it allows us to evaluate the performance of our model on data that it hasn't seen before. We use `braintrust` here to upload our dataset and a simple metadata flag to segregate between a train and evaluation portion of our dataset. This allows us to easily run evaluations on our model in the subsequent notebooks later on.\n",
    "\n",
    "If we fine-tuned our model on the same data that we evaluated it on, it would be difficult to tell if the improvements we made were due to the model generalizing better or due to overfitting. In this case, we're just going to split our data by selecting the first 80% as our training set and the remaining 20% as our evaluation set.\n",
    "\n",
    "In practice, you'd want to think carefully about these splits - using the category as a way to ensure that we have a diverse set of examples or generating new labels for the evaluation set based on the training labels. (Eg. Restaurants -> Dining Establishments or randomly grouping categories together )\n",
    "\n",
    "Before we start fine-tuning our models here, we also need to make sure that the evaluation set and training set are similar. We do so by measuring the recall and mrr and verifying that they have similar values.\n"
   ]
  },
  {
   "cell_type": "code",
   "execution_count": 24,
   "metadata": {},
   "outputs": [
    {
     "data": {
      "text/html": [
       "<pre style=\"white-space:pre;overflow-x:auto;line-height:normal;font-family:Menlo,'DejaVu Sans Mono',consolas,'Courier New',monospace\"><span style=\"color: #800080; text-decoration-color: #800080; font-weight: bold\">DatasetSummary</span><span style=\"font-weight: bold\">(</span>\n",
       "    <span style=\"color: #808000; text-decoration-color: #808000\">project_name</span>=<span style=\"color: #008000; text-decoration-color: #008000\">'fine-tuning'</span>,\n",
       "    <span style=\"color: #808000; text-decoration-color: #808000\">dataset_name</span>=<span style=\"color: #008000; text-decoration-color: #008000\">'Synthetic Transactions'</span>,\n",
       "    <span style=\"color: #808000; text-decoration-color: #808000\">project_url</span>=<span style=\"color: #008000; text-decoration-color: #008000\">'https://www.braintrust.dev/app/567/p/fine-tuning'</span>,\n",
       "    <span style=\"color: #808000; text-decoration-color: #808000\">dataset_url</span>=<span style=\"color: #008000; text-decoration-color: #008000\">'https://www.braintrust.dev/app/567/p/fine-tuning/datasets/Synthetic%20Transactions'</span>,\n",
       "    <span style=\"color: #808000; text-decoration-color: #808000\">data_summary</span>=<span style=\"color: #800080; text-decoration-color: #800080; font-weight: bold\">DataSummary</span><span style=\"font-weight: bold\">(</span><span style=\"color: #808000; text-decoration-color: #808000\">new_records</span>=<span style=\"color: #008080; text-decoration-color: #008080; font-weight: bold\">326</span>, <span style=\"color: #808000; text-decoration-color: #808000\">total_records</span>=<span style=\"color: #008080; text-decoration-color: #008080; font-weight: bold\">326</span><span style=\"font-weight: bold\">)</span>\n",
       "<span style=\"font-weight: bold\">)</span>\n",
       "</pre>\n"
      ],
      "text/plain": [
       "\u001b[1;35mDatasetSummary\u001b[0m\u001b[1m(\u001b[0m\n",
       "    \u001b[33mproject_name\u001b[0m=\u001b[32m'fine-tuning'\u001b[0m,\n",
       "    \u001b[33mdataset_name\u001b[0m=\u001b[32m'Synthetic Transactions'\u001b[0m,\n",
       "    \u001b[33mproject_url\u001b[0m=\u001b[32m'https://www.braintrust.dev/app/567/p/fine-tuning'\u001b[0m,\n",
       "    \u001b[33mdataset_url\u001b[0m=\u001b[32m'https://www.braintrust.dev/app/567/p/fine-tuning/datasets/Synthetic%20Transactions'\u001b[0m,\n",
       "    \u001b[33mdata_summary\u001b[0m=\u001b[1;35mDataSummary\u001b[0m\u001b[1m(\u001b[0m\u001b[33mnew_records\u001b[0m=\u001b[1;36m326\u001b[0m, \u001b[33mtotal_records\u001b[0m=\u001b[1;36m326\u001b[0m\u001b[1m)\u001b[0m\n",
       "\u001b[1m)\u001b[0m\n"
      ]
     },
     "metadata": {},
     "output_type": "display_data"
    }
   ],
   "source": [
    "from braintrust import init_dataset\n",
    "\n",
    "\n",
    "train_ratio = 0.8 * len(transactions)\n",
    "\n",
    "train_transactions = transactions[: int(train_ratio)]\n",
    "eval_transactions = transactions[int(train_ratio) :]\n",
    "\n",
    "dataset = init_dataset(project=\"fine-tuning\", name=\"Synthetic Transactions\")\n",
    "\n",
    "for transaction in train_transactions:\n",
    "    dataset.insert(\n",
    "        input=transaction.format_transaction(),\n",
    "        expected=[transaction.expense_category],\n",
    "        metadata={\"split\": \"train\"},\n",
    "    )\n",
    "\n",
    "for transaction in eval_transactions:\n",
    "    dataset.insert(\n",
    "        input=transaction.format_transaction(),\n",
    "        expected=[transaction.expense_category],\n",
    "        metadata={\"split\": \"eval\"},\n",
    "    )\n",
    "\n",
    "print(dataset.summarize())"
   ]
  },
  {
   "cell_type": "markdown",
   "metadata": {},
   "source": [
    "We can validate that the dataset is formatted correctly by printing out the first item.\n"
   ]
  },
  {
   "cell_type": "code",
   "execution_count": 25,
   "metadata": {},
   "outputs": [
    {
     "data": {
      "text/html": [
       "<pre style=\"white-space:pre;overflow-x:auto;line-height:normal;font-family:Menlo,'DejaVu Sans Mono',consolas,'Courier New',monospace\"><span style=\"font-weight: bold\">{</span>\n",
       "    <span style=\"color: #008000; text-decoration-color: #008000\">'id'</span>: <span style=\"color: #008000; text-decoration-color: #008000\">'00700e2c-f011-4a21-b633-f84774e17748'</span>,\n",
       "    <span style=\"color: #008000; text-decoration-color: #008000\">'_xact_id'</span>: <span style=\"color: #008000; text-decoration-color: #008000\">'1000194549604700547'</span>,\n",
       "    <span style=\"color: #008000; text-decoration-color: #008000\">'created'</span>: <span style=\"color: #008000; text-decoration-color: #008000\">'2025-02-06T14:13:11.356Z'</span>,\n",
       "    <span style=\"color: #008000; text-decoration-color: #008000\">'project_id'</span>: <span style=\"color: #008000; text-decoration-color: #008000\">'3e382e96-dacb-423d-bd48-d6bb5a5b7bf2'</span>,\n",
       "    <span style=\"color: #008000; text-decoration-color: #008000\">'dataset_id'</span>: <span style=\"color: #008000; text-decoration-color: #008000\">'f60d6bad-8b1f-43e1-bae6-54f703d50d35'</span>,\n",
       "    <span style=\"color: #008000; text-decoration-color: #008000\">'input'</span>: <span style=\"color: #008000; text-decoration-color: #008000\">'\\nName : Nimbus Streamline\\nCategory: Cloud Services, Internet Infrastructure\\nDepartment: IT </span>\n",
       "<span style=\"color: #008000; text-decoration-color: #008000\">Operations\\nLocation: Berlin, Germany\\nAmount: 1376.49\\nCard: Distributed Server Management\\nTrip Name: unknown\\n'</span>,\n",
       "    <span style=\"color: #008000; text-decoration-color: #008000\">'expected'</span>: <span style=\"font-weight: bold\">[</span><span style=\"color: #008000; text-decoration-color: #008000\">'Cloud Infrastructure &amp; Hosting'</span><span style=\"font-weight: bold\">]</span>,\n",
       "    <span style=\"color: #008000; text-decoration-color: #008000\">'metadata'</span>: <span style=\"font-weight: bold\">{</span><span style=\"color: #008000; text-decoration-color: #008000\">'split'</span>: <span style=\"color: #008000; text-decoration-color: #008000\">'train'</span><span style=\"font-weight: bold\">}</span>,\n",
       "    <span style=\"color: #008000; text-decoration-color: #008000\">'tags'</span>: <span style=\"color: #800080; text-decoration-color: #800080; font-style: italic\">None</span>,\n",
       "    <span style=\"color: #008000; text-decoration-color: #008000\">'span_id'</span>: <span style=\"color: #008000; text-decoration-color: #008000\">'aadebd04-92dc-41e2-b491-7271d1d79b94'</span>,\n",
       "    <span style=\"color: #008000; text-decoration-color: #008000\">'root_span_id'</span>: <span style=\"color: #008000; text-decoration-color: #008000\">'aadebd04-92dc-41e2-b491-7271d1d79b94'</span>,\n",
       "    <span style=\"color: #008000; text-decoration-color: #008000\">'is_root'</span>: <span style=\"color: #00ff00; text-decoration-color: #00ff00; font-style: italic\">True</span>,\n",
       "    <span style=\"color: #008000; text-decoration-color: #008000\">'origin'</span>: <span style=\"color: #800080; text-decoration-color: #800080; font-style: italic\">None</span>\n",
       "<span style=\"font-weight: bold\">}</span>\n",
       "</pre>\n"
      ],
      "text/plain": [
       "\u001b[1m{\u001b[0m\n",
       "    \u001b[32m'id'\u001b[0m: \u001b[32m'00700e2c-f011-4a21-b633-f84774e17748'\u001b[0m,\n",
       "    \u001b[32m'_xact_id'\u001b[0m: \u001b[32m'1000194549604700547'\u001b[0m,\n",
       "    \u001b[32m'created'\u001b[0m: \u001b[32m'2025-02-06T14:13:11.356Z'\u001b[0m,\n",
       "    \u001b[32m'project_id'\u001b[0m: \u001b[32m'3e382e96-dacb-423d-bd48-d6bb5a5b7bf2'\u001b[0m,\n",
       "    \u001b[32m'dataset_id'\u001b[0m: \u001b[32m'f60d6bad-8b1f-43e1-bae6-54f703d50d35'\u001b[0m,\n",
       "    \u001b[32m'input'\u001b[0m: \u001b[32m'\\nName : Nimbus Streamline\\nCategory: Cloud Services, Internet Infrastructure\\nDepartment: IT \u001b[0m\n",
       "\u001b[32mOperations\\nLocation: Berlin, Germany\\nAmount: 1376.49\\nCard: Distributed Server Management\\nTrip Name: unknown\\n'\u001b[0m,\n",
       "    \u001b[32m'expected'\u001b[0m: \u001b[1m[\u001b[0m\u001b[32m'Cloud Infrastructure & Hosting'\u001b[0m\u001b[1m]\u001b[0m,\n",
       "    \u001b[32m'metadata'\u001b[0m: \u001b[1m{\u001b[0m\u001b[32m'split'\u001b[0m: \u001b[32m'train'\u001b[0m\u001b[1m}\u001b[0m,\n",
       "    \u001b[32m'tags'\u001b[0m: \u001b[3;35mNone\u001b[0m,\n",
       "    \u001b[32m'span_id'\u001b[0m: \u001b[32m'aadebd04-92dc-41e2-b491-7271d1d79b94'\u001b[0m,\n",
       "    \u001b[32m'root_span_id'\u001b[0m: \u001b[32m'aadebd04-92dc-41e2-b491-7271d1d79b94'\u001b[0m,\n",
       "    \u001b[32m'is_root'\u001b[0m: \u001b[3;92mTrue\u001b[0m,\n",
       "    \u001b[32m'origin'\u001b[0m: \u001b[3;35mNone\u001b[0m\n",
       "\u001b[1m}\u001b[0m\n"
      ]
     },
     "metadata": {},
     "output_type": "display_data"
    },
    {
     "data": {
      "text/html": [
       "<pre style=\"white-space:pre;overflow-x:auto;line-height:normal;font-family:Menlo,'DejaVu Sans Mono',consolas,'Courier New',monospace\">\n",
       "Name : Nimbus Streamline\n",
       "Category: Cloud Services, Internet Infrastructure\n",
       "Department: IT Operations\n",
       "Location: Berlin, Germany\n",
       "Amount: <span style=\"color: #008080; text-decoration-color: #008080; font-weight: bold\">1376.49</span>\n",
       "Card: Distributed Server Management\n",
       "Trip Name: unknown\n",
       "\n",
       "</pre>\n"
      ],
      "text/plain": [
       "\n",
       "Name : Nimbus Streamline\n",
       "Category: Cloud Services, Internet Infrastructure\n",
       "Department: IT Operations\n",
       "Location: Berlin, Germany\n",
       "Amount: \u001b[1;36m1376.49\u001b[0m\n",
       "Card: Distributed Server Management\n",
       "Trip Name: unknown\n",
       "\n"
      ]
     },
     "metadata": {},
     "output_type": "display_data"
    }
   ],
   "source": [
    "from rich import print\n",
    "\n",
    "for item in dataset:\n",
    "    print(item)\n",
    "    print(item[\"input\"])\n",
    "    break"
   ]
  },
  {
   "cell_type": "markdown",
   "metadata": {},
   "source": [
    "We can see that the dataset has the input formatted correctly as well as the expected output. Now let's see if our evaluation set and training set are similar.\n"
   ]
  },
  {
   "cell_type": "code",
   "execution_count": 22,
   "metadata": {},
   "outputs": [
    {
     "data": {
      "text/plain": [
       "(260, 66)"
      ]
     },
     "execution_count": 22,
     "metadata": {},
     "output_type": "execute_result"
    }
   ],
   "source": [
    "from braintrust import init_dataset\n",
    "\n",
    "\n",
    "def get_dataset_split(split: str, dataset):\n",
    "    return [\n",
    "        {\n",
    "            \"input\": transaction[\"input\"],\n",
    "            \"expected\": transaction[\"expected\"],\n",
    "        }\n",
    "        for transaction in dataset\n",
    "        if transaction[\"metadata\"][\"split\"] == split\n",
    "    ]\n",
    "\n",
    "\n",
    "dataset = init_dataset(project=\"fine-tuning\", name=\"Synthetic Transactions\")\n",
    "train_data = get_dataset_split(\"train\", dataset)\n",
    "eval_data = get_dataset_split(\"eval\", dataset)\n",
    "len(train_data), len(eval_data)\n"
   ]
  },
  {
   "cell_type": "code",
   "execution_count": 27,
   "metadata": {},
   "outputs": [
    {
     "name": "stderr",
     "output_type": "stream",
     "text": [
      "Experiment synthetic-transactions-train-b2d4374a is running at https://www.braintrust.dev/app/567/p/fine-tuning/experiments/synthetic-transactions-train-b2d4374a\n",
      "fine-tuning [experiment_name=synthetic-transactions-train] (data): 260it [00:00, 49973.38it/s]\n"
     ]
    },
    {
     "data": {
      "application/vnd.jupyter.widget-view+json": {
       "model_id": "6242842406a5439f84537dcc683c9318",
       "version_major": 2,
       "version_minor": 0
      },
      "text/plain": [
       "fine-tuning [experiment_name=synthetic-transactions-train] (tasks):   0%|          | 0/260 [00:00<?, ?it/s]"
      ]
     },
     "metadata": {},
     "output_type": "display_data"
    },
    {
     "name": "stdout",
     "output_type": "stream",
     "text": [
      "\n",
      "=========================SUMMARY=========================\n",
      "synthetic-transactions-train-b2d4374a compared to synthetic-transactions-train-categories-ivanleomk-finetuned-bge-base-en-test:\n",
      "38.46% 'mrr@1'    score\n",
      "48.85% 'mrr@3'    score\n",
      "51.81% 'mrr@5'    score\n",
      "38.46% 'recall@1' score\n",
      "63.08% 'recall@3' score\n",
      "76.15% 'recall@5' score\n",
      "\n",
      "1739746664.65s start\n",
      "1739746669.66s end\n",
      "2.54s duration\n",
      "\n",
      "See results for synthetic-transactions-train-b2d4374a at https://www.braintrust.dev/app/567/p/fine-tuning/experiments/synthetic-transactions-train-b2d4374a\n"
     ]
    },
    {
     "name": "stderr",
     "output_type": "stream",
     "text": [
      "Experiment synthetic-transactions-eval-29ce4132 is running at https://www.braintrust.dev/app/567/p/fine-tuning/experiments/synthetic-transactions-eval-29ce4132\n",
      "fine-tuning [experiment_name=synthetic-transactions-eval] (data): 66it [00:00, 21638.71it/s]\n"
     ]
    },
    {
     "data": {
      "application/vnd.jupyter.widget-view+json": {
       "model_id": "876994aee6c04c72bd21e104780c1adc",
       "version_major": 2,
       "version_minor": 0
      },
      "text/plain": [
       "fine-tuning [experiment_name=synthetic-transactions-eval] (tasks):   0%|          | 0/66 [00:00<?, ?it/s]"
      ]
     },
     "metadata": {},
     "output_type": "display_data"
    },
    {
     "name": "stdout",
     "output_type": "stream",
     "text": [
      "\n",
      "=========================SUMMARY=========================\n",
      "synthetic-transactions-eval-29ce4132 compared to synthetic-transactions-train-categories-ivanleomk-finetuned-bge-base-en-test:\n",
      "39.39% (-18.18%) 'mrr@1'    score\t(7 improvements, 19 regressions)\n",
      "51.77% (-19.44%) 'mrr@3'    score\t(9 improvements, 28 regressions)\n",
      "54.19% (-18.38%) 'mrr@5'    score\t(10 improvements, 31 regressions)\n",
      "39.39% (-18.18%) 'recall@1' score\t(7 improvements, 19 regressions)\n",
      "66.67% (-19.70%) 'recall@3' score\t(2 improvements, 15 regressions)\n",
      "77.27% (-15.15%) 'recall@5' score\t(2 improvements, 12 regressions)\n",
      "\n",
      "1739746674.02s start\n",
      "1739746675.14s end\n",
      "0.74s (-58.02%) 'duration'\t(66 improvements, 0 regressions)\n",
      "\n",
      "See results for synthetic-transactions-eval-29ce4132 at https://www.braintrust.dev/app/567/p/fine-tuning/experiments/synthetic-transactions-eval-29ce4132\n"
     ]
    }
   ],
   "source": [
    "from lancedb import connect\n",
    "from braintrust import Eval\n",
    "\n",
    "datasets = [[\"train\", train_data], [\"eval\", eval_data]]\n",
    "\n",
    "db = connect(\"./lancedb\")\n",
    "table = db.open_table(\"categories\")\n",
    "\n",
    "\n",
    "results = []\n",
    "for dataset_name, dataset_partition in datasets:\n",
    "    results.append(\n",
    "        await Eval(\n",
    "            \"fine-tuning\",\n",
    "            experiment_name=f\"synthetic-transactions-{dataset_name}\",\n",
    "            data=lambda: dataset_partition,\n",
    "            task=lambda query: task(\n",
    "                user_query=query, table=table, reranker=None, max_k=25\n",
    "            ),  # Replace with your LLM call\n",
    "            scores=[evaluate_braintrust],\n",
    "        )\n",
    "    )"
   ]
  },
  {
   "cell_type": "code",
   "execution_count": 38,
   "metadata": {},
   "outputs": [],
   "source": [
    "results = {}\n",
    "for dataset_name, data in [[\"train\", train_data], [\"eval\", eval_data]]:\n",
    "    with ThreadPoolExecutor(max_workers=10) as executor:\n",
    "        query_results = list(\n",
    "            executor.map(\n",
    "                lambda q: task(\n",
    "                    user_query=q['input'], table=table, reranker=None, max_k=25\n",
    "                ),\n",
    "                data,\n",
    "            )\n",
    "        )\n",
    "        scores = [\n",
    "            evaluate_query(output, transaction[\"expected\"])\n",
    "            for output, transaction in zip(query_results, data)\n",
    "        ]\n",
    "        results[dataset_name] = round(pd.DataFrame(scores).mean(), 4)\n",
    "        print(results[dataset_name])"
   ]
  },
  {
   "cell_type": "markdown",
   "metadata": {},
   "source": [
    "### Results and Analysis\n",
    "\n",
    "> **Note** : If you're running this without braintrust, run the second cell to get the results and the plot below.\n"
   ]
  },
  {
   "cell_type": "code",
   "execution_count": 28,
   "metadata": {},
   "outputs": [
    {
     "data": {
      "text/html": [
       "<div>\n",
       "<style scoped>\n",
       "    .dataframe tbody tr th:only-of-type {\n",
       "        vertical-align: middle;\n",
       "    }\n",
       "\n",
       "    .dataframe tbody tr th {\n",
       "        vertical-align: top;\n",
       "    }\n",
       "\n",
       "    .dataframe thead th {\n",
       "        text-align: right;\n",
       "    }\n",
       "</style>\n",
       "<table border=\"1\" class=\"dataframe\">\n",
       "  <thead>\n",
       "    <tr style=\"text-align: right;\">\n",
       "      <th></th>\n",
       "      <th>mrr@1</th>\n",
       "      <th>mrr@3</th>\n",
       "      <th>mrr@5</th>\n",
       "      <th>recall@1</th>\n",
       "      <th>recall@3</th>\n",
       "      <th>recall@5</th>\n",
       "    </tr>\n",
       "  </thead>\n",
       "  <tbody>\n",
       "    <tr>\n",
       "      <th>Train</th>\n",
       "      <td>0.38</td>\n",
       "      <td>0.49</td>\n",
       "      <td>0.52</td>\n",
       "      <td>0.38</td>\n",
       "      <td>0.63</td>\n",
       "      <td>0.76</td>\n",
       "    </tr>\n",
       "    <tr>\n",
       "      <th>Eval</th>\n",
       "      <td>0.39</td>\n",
       "      <td>0.52</td>\n",
       "      <td>0.54</td>\n",
       "      <td>0.39</td>\n",
       "      <td>0.67</td>\n",
       "      <td>0.77</td>\n",
       "    </tr>\n",
       "  </tbody>\n",
       "</table>\n",
       "</div>"
      ],
      "text/plain": [
       "       mrr@1  mrr@3  mrr@5  recall@1  recall@3  recall@5\n",
       "Train   0.38   0.49   0.52      0.38      0.63      0.76\n",
       "Eval    0.39   0.52   0.54      0.39      0.67      0.77"
      ]
     },
     "execution_count": 28,
     "metadata": {},
     "output_type": "execute_result"
    }
   ],
   "source": [
    "import pandas as pd\n",
    "\n",
    "scores = []\n",
    "\n",
    "for result in results:\n",
    "    result_scores = {}\n",
    "    for score_name, score in result.summary.scores.items():\n",
    "        result_scores[score_name] = score.score\n",
    "    scores.append(result_scores)\n",
    "\n",
    "df = pd.DataFrame(scores, index=[\"Train\", \"Eval\"])\n",
    "df.round(2)"
   ]
  },
  {
   "cell_type": "code",
   "execution_count": 42,
   "metadata": {},
   "outputs": [
    {
     "data": {
      "text/html": [
       "<div>\n",
       "<style scoped>\n",
       "    .dataframe tbody tr th:only-of-type {\n",
       "        vertical-align: middle;\n",
       "    }\n",
       "\n",
       "    .dataframe tbody tr th {\n",
       "        vertical-align: top;\n",
       "    }\n",
       "\n",
       "    .dataframe thead th {\n",
       "        text-align: right;\n",
       "    }\n",
       "</style>\n",
       "<table border=\"1\" class=\"dataframe\">\n",
       "  <thead>\n",
       "    <tr style=\"text-align: right;\">\n",
       "      <th></th>\n",
       "      <th>mrr@1</th>\n",
       "      <th>mrr@3</th>\n",
       "      <th>mrr@5</th>\n",
       "      <th>recall@1</th>\n",
       "      <th>recall@3</th>\n",
       "      <th>recall@5</th>\n",
       "    </tr>\n",
       "  </thead>\n",
       "  <tbody>\n",
       "    <tr>\n",
       "      <th>Train</th>\n",
       "      <td>0.38</td>\n",
       "      <td>0.49</td>\n",
       "      <td>0.52</td>\n",
       "      <td>0.38</td>\n",
       "      <td>0.63</td>\n",
       "      <td>0.76</td>\n",
       "    </tr>\n",
       "    <tr>\n",
       "      <th>Eval</th>\n",
       "      <td>0.39</td>\n",
       "      <td>0.52</td>\n",
       "      <td>0.54</td>\n",
       "      <td>0.39</td>\n",
       "      <td>0.67</td>\n",
       "      <td>0.77</td>\n",
       "    </tr>\n",
       "  </tbody>\n",
       "</table>\n",
       "</div>"
      ],
      "text/plain": [
       "       mrr@1  mrr@3  mrr@5  recall@1  recall@3  recall@5\n",
       "Train   0.38   0.49   0.52      0.38      0.63      0.76\n",
       "Eval    0.39   0.52   0.54      0.39      0.67      0.77"
      ]
     },
     "execution_count": 42,
     "metadata": {},
     "output_type": "execute_result"
    }
   ],
   "source": [
    "df = pd.DataFrame(results.values(), index=[\"Train\", \"Eval\"])\n",
    "df.round(2)"
   ]
  },
  {
   "cell_type": "code",
   "execution_count": 43,
   "metadata": {},
   "outputs": [
    {
     "data": {
      "image/png": "[encoded data removed]",
      "text/plain": [
       "<Figure size 1600x500 with 2 Axes>"
      ]
     },
     "metadata": {},
     "output_type": "display_data"
    }
   ],
   "source": [
    "import matplotlib.pyplot as plt\n",
    "import numpy as np\n",
    "\n",
    "# Create figure with two subplots side by side\n",
    "fig, (ax1, ax2) = plt.subplots(1, 2, figsize=(16, 5))\n",
    "\n",
    "# Get MRR and Recall columns\n",
    "mrr_cols = [\"mrr@1\", \"mrr@3\", \"mrr@5\"]\n",
    "recall_cols = [\"recall@1\", \"recall@3\", \"recall@5\"]\n",
    "x = np.arange(len(mrr_cols))\n",
    "width = 0.35\n",
    "\n",
    "# Plot MRR bars\n",
    "ax1.bar(x - width / 2, df.loc[\"Train\", mrr_cols], width, label=\"Train\")\n",
    "ax1.bar(x + width / 2, df.loc[\"Eval\", mrr_cols], width, label=\"Eval\")\n",
    "ax1.set_title(\"Mean Reciprocal Rank (MRR)\")\n",
    "ax1.set_xticks(x)\n",
    "ax1.set_xticklabels(mrr_cols)\n",
    "ax1.set_ylabel(\"Score\")\n",
    "ax1.legend()\n",
    "ax1.grid(True, alpha=0.3)\n",
    "\n",
    "# Plot Recall bars\n",
    "ax2.bar(x - width / 2, df.loc[\"Train\", recall_cols], width, label=\"Train\")\n",
    "ax2.bar(x + width / 2, df.loc[\"Eval\", recall_cols], width, label=\"Eval\")\n",
    "ax2.set_title(\"Recall\")\n",
    "ax2.set_xticks(x)\n",
    "ax2.set_xticklabels(recall_cols)\n",
    "ax2.set_ylabel(\"Score\")\n",
    "ax2.legend()\n",
    "ax2.grid(True, alpha=0.3)\n",
    "\n",
    "plt.tight_layout()\n",
    "plt.show()\n"
   ]
  },
  {
   "cell_type": "markdown",
   "metadata": {},
   "source": [
    "## Conclusion\n",
    "\n",
    "In this notebook, we've laid the foundation for fine-tuning by creating high-quality synthetic training data. Our analysis shows that our train and eval sets have similar performance metrics, suggesting they represent the same underlying patterns and will give us reliable estimates of real-world performance.\n",
    "\n",
    "While our approach works well for getting started, production systems need more robust testing - like generating similar but different labels, using multiple test sets, and carefully preventing data leakage. We'll explore some of these ideas in Week 4 when we look at handling different types of queries.\n",
    "\n",
    "In the next two notebooks, we'll put this data to work: first using Cohere's managed re-ranker service as an easy starting point, then exploring open-source fine-tuning for more control. This builds on Week 1's evaluation framework while preparing us for more advanced query handling in future weeks.\n"
   ]
  }
 ],
 "metadata": {
  "kernelspec": {
   "display_name": ".venv",
   "language": "python",
   "name": "python3"
  },
  "language_info": {
   "codemirror_mode": {
    "name": "ipython",
    "version": 3
   },
   "file_extension": ".py",
   "mimetype": "text/x-python",
   "name": "python",
   "nbconvert_exporter": "python",
   "pygments_lexer": "ipython3",
   "version": "3.9.6"
  }
 },
 "nbformat": 4,
 "nbformat_minor": 2
}
